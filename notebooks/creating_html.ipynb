{
 "cells": [
  {
   "cell_type": "code",
   "execution_count": 2,
   "metadata": {},
   "outputs": [],
   "source": [
    "import os\n",
    "if not os.path.isdir('templates'):\n",
    "    print('making dir')\n",
    "    os.mkdir('templates')\n",
    "if not os.path.isdir('static'):\n",
    "    print('making static dir')\n",
    "    os.mkdir('static')\n",
    "if not os.path.isdir(os.path.join('static', 'images')):\n",
    "    print('making images dir')\n",
    "    os.mkdir(os.path.join('static', 'images'))\n",
    "\n",
    "txt = '''<!DOCTYPE html>\n",
    "<html lang=\"en\">\n",
    "<head>\n",
    "    <title>Image_Recognition</title>\n",
    "    <style>\n",
    "        h1{text-align:center;}\n",
    "    </style>\n",
    "</head>\n",
    "<body bgcolor='black' text='white'>\n",
    "<h1> \n",
    "<b>\n",
    "<font size=15 class=\"text-center\">\n",
    "Image Prediction Model \n",
    "</font>\n",
    "</b>\n",
    "</h1>\n",
    "<div style=\"background-color:white\">\n",
    "<hr>\n",
    "<hr></div>\n",
    "<h2> Upload the image to predict!</h2>\n",
    "<form action=\"/\", method=\"post\", enctype=\"multipart/form-data\">\n",
    "  Upload the image :<input type=\"file\" name=\"imagefile\">\n",
    "  <p><input type=\"submit\" value=\"Predict image\"></p>\n",
    "</form>\n",
    "<img src=\"{{ user_image }}\" height=\"280px\" width=\"400px\">\n",
    "<p>\n",
    "<h2>\n",
    "<b> {{ prediction_text }}</b>\n",
    "</h2></p>\n",
    "</body>\n",
    "</html>'''\n",
    "with open(os.path.join('templates', 'index.html'), 'w') as f:\n",
    "    f.write(txt)"
   ]
  },
  {
   "cell_type": "code",
   "execution_count": null,
   "metadata": {},
   "outputs": [],
   "source": []
  }
 ],
 "metadata": {
  "kernelspec": {
   "display_name": "Python 3",
   "language": "python",
   "name": "python3"
  },
  "language_info": {
   "codemirror_mode": {
    "name": "ipython",
    "version": 3
   },
   "file_extension": ".py",
   "mimetype": "text/x-python",
   "name": "python",
   "nbconvert_exporter": "python",
   "pygments_lexer": "ipython3",
   "version": "3.7.6"
  }
 },
 "nbformat": 4,
 "nbformat_minor": 4
}
